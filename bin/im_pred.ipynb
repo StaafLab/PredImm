{
 "cells": [
  {
   "cell_type": "code",
   "execution_count": null,
   "id": "33dc0033",
   "metadata": {},
   "outputs": [],
   "source": [
    "import joblib\n",
    "import pandas as pd\n",
    "import numpy as np\n",
    "\n",
    "import sklearn"
   ]
  },
  {
   "cell_type": "markdown",
   "id": "9209b3ce",
   "metadata": {},
   "source": [
    "## Load data\n",
    "\n",
    "Load here your dataframe with fpkm values. Make sure your genes are named with the gene names and not Entrez IDs. "
   ]
  },
  {
   "cell_type": "code",
   "execution_count": null,
   "id": "b4360525",
   "metadata": {},
   "outputs": [],
   "source": [
    "fpkm = pd.read_csv(\"../data/TCGA_fpkm.csv\", sep = ',', header = 0, index_col = 0)\n",
    "\n",
    "# #comment the next line out if gene names are already column names\n",
    "fpkm = np.transpose(fpkm)\n",
    "\n",
    "# # genes = pd.read_csv(\"../model/genes_matched_scanb_fuscc_tcga.csv\")\n",
    "genes = pd.read_csv(\"../model/genes_ordered.csv\")\n",
    "gene_list = genes['gene'].tolist()\n",
    "\n",
    "# #here we make sure the columns are in there\n",
    "fpkm = fpkm[fpkm.columns.intersection(gene_list)]\n",
    "\n",
    "genes.set_index(\"gene\", inplace = True)\n",
    "fpkm = fpkm[genes.index]\n",
    "\n",
    "print(fpkm)"
   ]
  },
  {
   "cell_type": "markdown",
   "id": "2efb902d",
   "metadata": {},
   "source": [
    "## Predict IM type\n",
    "\n",
    "Here we load the model, carry out predictions, and then export the predictions"
   ]
  },
  {
   "cell_type": "code",
   "execution_count": null,
   "id": "43e7305b",
   "metadata": {},
   "outputs": [],
   "source": [
    "rf_loaded = joblib.load(\"../model/rf_fpkm_intersectionmodel.joblib\")\n",
    "\n",
    "fpkm_pred = rf_loaded.predict(fpkm)\n",
    "fpkm_proba = rf_loaded.predict_proba(fpkm)\n",
    "fpkm[\"IMpred\"] = fpkm_pred\n",
    "fpkm[\"proba_0\"] = fpkm_proba[:, [0]]\n",
    "fpkm[\"proba_1\"] = fpkm_proba[:, [1]]\n",
    "\n",
    "pred = fpkm[[\"IMpred\", \"proba_0\", \"proba_1\"]]"
   ]
  },
  {
   "cell_type": "markdown",
   "id": "33215609",
   "metadata": {},
   "source": [
    "## Export predictions"
   ]
  },
  {
   "cell_type": "code",
   "execution_count": null,
   "id": "3d75262f",
   "metadata": {},
   "outputs": [],
   "source": [
    "pred.to_csv(\"../results/pred_im.csv\")"
   ]
  }
 ],
 "metadata": {
  "kernelspec": {
   "display_name": "Python 3 (ipykernel)",
   "language": "python",
   "name": "python3"
  },
  "language_info": {
   "codemirror_mode": {
    "name": "ipython",
    "version": 3
   },
   "file_extension": ".py",
   "mimetype": "text/x-python",
   "name": "python",
   "nbconvert_exporter": "python",
   "pygments_lexer": "ipython3",
   "version": "3.9.16"
  }
 },
 "nbformat": 4,
 "nbformat_minor": 5
}
